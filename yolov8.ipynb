{
 "cells": [
  {
   "cell_type": "markdown",
   "metadata": {},
   "source": [
    "## Step 1: Training the Models"
   ]
  },
  {
   "cell_type": "code",
   "execution_count": null,
   "metadata": {},
   "outputs": [],
   "source": [
    "!mkdir -p {HOME}/weights\n",
    "!wget -P {HOME}/weights -q https://github.com/jameslahm/yolov10/releases/download/v1.0/yolov10n.pt\n",
    "!wget -P {HOME}/weights -q https://github.com/jameslahm/yolov10/releases/download/v1.0/yolov10s.pt\n",
    "!wget -P {HOME}/weights -q https://github.com/jameslahm/yolov10/releases/download/v1.0/yolov10b.pt\n",
    "!wget -P {HOME}/weights -q https://github.com/jameslahm/yolov10/releases/download/v1.0/yolov10x.pt\n",
    "!ls -lh {HOME}/weights"
   ]
  },
  {
   "cell_type": "code",
   "execution_count": 2,
   "metadata": {},
   "outputs": [
    {
     "name": "stdout",
     "output_type": "stream",
     "text": [
      "Collecting ultralytics\n",
      "  Using cached ultralytics-8.2.97-py3-none-any.whl.metadata (39 kB)\n",
      "Collecting numpy<2.0.0,>=1.23.0 (from ultralytics)\n",
      "  Downloading numpy-1.26.4-cp39-cp39-win_amd64.whl.metadata (61 kB)\n",
      "Requirement already satisfied: matplotlib>=3.3.0 in d:\\anaconda\\envs\\d2l\\lib\\site-packages (from ultralytics) (3.5.1)\n",
      "Collecting opencv-python>=4.6.0 (from ultralytics)\n",
      "  Using cached opencv_python-4.10.0.84-cp37-abi3-win_amd64.whl.metadata (20 kB)\n",
      "Requirement already satisfied: pillow>=7.1.2 in d:\\anaconda\\envs\\d2l\\lib\\site-packages (from ultralytics) (10.4.0)\n",
      "Requirement already satisfied: pyyaml>=5.3.1 in d:\\anaconda\\envs\\d2l\\lib\\site-packages (from ultralytics) (6.0.1)\n",
      "Requirement already satisfied: requests>=2.23.0 in d:\\anaconda\\envs\\d2l\\lib\\site-packages (from ultralytics) (2.25.1)\n",
      "Requirement already satisfied: scipy>=1.4.1 in d:\\anaconda\\envs\\d2l\\lib\\site-packages (from ultralytics) (1.13.1)\n",
      "Requirement already satisfied: torch>=1.8.0 in d:\\anaconda\\envs\\d2l\\lib\\site-packages (from ultralytics) (1.11.0+cu113)\n",
      "Requirement already satisfied: torchvision>=0.9.0 in d:\\anaconda\\envs\\d2l\\lib\\site-packages (from ultralytics) (0.12.0+cu113)\n",
      "Collecting tqdm>=4.64.0 (from ultralytics)\n",
      "  Using cached tqdm-4.66.5-py3-none-any.whl.metadata (57 kB)\n",
      "Requirement already satisfied: psutil in d:\\anaconda\\envs\\d2l\\lib\\site-packages (from ultralytics) (5.9.0)\n",
      "Collecting py-cpuinfo (from ultralytics)\n",
      "  Using cached py_cpuinfo-9.0.0-py3-none-any.whl.metadata (794 bytes)\n",
      "Requirement already satisfied: pandas>=1.1.4 in d:\\anaconda\\envs\\d2l\\lib\\site-packages (from ultralytics) (1.2.4)\n",
      "Collecting seaborn>=0.11.0 (from ultralytics)\n",
      "  Using cached seaborn-0.13.2-py3-none-any.whl.metadata (5.4 kB)\n",
      "Collecting ultralytics-thop>=2.0.0 (from ultralytics)\n",
      "  Using cached ultralytics_thop-2.0.6-py3-none-any.whl.metadata (9.1 kB)\n",
      "Requirement already satisfied: cycler>=0.10 in d:\\anaconda\\envs\\d2l\\lib\\site-packages (from matplotlib>=3.3.0->ultralytics) (0.12.1)\n",
      "Requirement already satisfied: fonttools>=4.22.0 in d:\\anaconda\\envs\\d2l\\lib\\site-packages (from matplotlib>=3.3.0->ultralytics) (4.53.1)\n",
      "Requirement already satisfied: kiwisolver>=1.0.1 in d:\\anaconda\\envs\\d2l\\lib\\site-packages (from matplotlib>=3.3.0->ultralytics) (1.4.5)\n",
      "Requirement already satisfied: packaging>=20.0 in d:\\anaconda\\envs\\d2l\\lib\\site-packages (from matplotlib>=3.3.0->ultralytics) (24.1)\n",
      "Requirement already satisfied: pyparsing>=2.2.1 in d:\\anaconda\\envs\\d2l\\lib\\site-packages (from matplotlib>=3.3.0->ultralytics) (3.1.4)\n",
      "Requirement already satisfied: python-dateutil>=2.7 in d:\\anaconda\\envs\\d2l\\lib\\site-packages (from matplotlib>=3.3.0->ultralytics) (2.9.0.post0)\n",
      "Requirement already satisfied: pytz>=2017.3 in d:\\anaconda\\envs\\d2l\\lib\\site-packages (from pandas>=1.1.4->ultralytics) (2024.1)\n",
      "Requirement already satisfied: chardet<5,>=3.0.2 in d:\\anaconda\\envs\\d2l\\lib\\site-packages (from requests>=2.23.0->ultralytics) (4.0.0)\n",
      "Requirement already satisfied: idna<3,>=2.5 in d:\\anaconda\\envs\\d2l\\lib\\site-packages (from requests>=2.23.0->ultralytics) (2.10)\n",
      "Requirement already satisfied: urllib3<1.27,>=1.21.1 in d:\\anaconda\\envs\\d2l\\lib\\site-packages (from requests>=2.23.0->ultralytics) (1.26.20)\n",
      "Requirement already satisfied: certifi>=2017.4.17 in d:\\anaconda\\envs\\d2l\\lib\\site-packages (from requests>=2.23.0->ultralytics) (2024.7.4)\n",
      "Requirement already satisfied: typing-extensions in d:\\anaconda\\envs\\d2l\\lib\\site-packages (from torch>=1.8.0->ultralytics) (4.11.0)\n",
      "Requirement already satisfied: colorama in d:\\anaconda\\envs\\d2l\\lib\\site-packages (from tqdm>=4.64.0->ultralytics) (0.4.6)\n",
      "Requirement already satisfied: six>=1.5 in d:\\anaconda\\envs\\d2l\\lib\\site-packages (from python-dateutil>=2.7->matplotlib>=3.3.0->ultralytics) (1.16.0)\n",
      "Using cached ultralytics-8.2.97-py3-none-any.whl (873 kB)\n",
      "Downloading numpy-1.26.4-cp39-cp39-win_amd64.whl (15.8 MB)\n",
      "   ---------------------------------------- 0.0/15.8 MB ? eta -:--:--\n",
      "   ----------- ---------------------------- 4.7/15.8 MB 23.8 MB/s eta 0:00:01\n",
      "   ---------------------------------------  15.7/15.8 MB 41.2 MB/s eta 0:00:01\n",
      "   ---------------------------------------- 15.8/15.8 MB 38.3 MB/s eta 0:00:00\n",
      "Using cached opencv_python-4.10.0.84-cp37-abi3-win_amd64.whl (38.8 MB)\n",
      "Using cached seaborn-0.13.2-py3-none-any.whl (294 kB)\n",
      "Using cached tqdm-4.66.5-py3-none-any.whl (78 kB)\n",
      "Using cached ultralytics_thop-2.0.6-py3-none-any.whl (26 kB)\n",
      "Using cached py_cpuinfo-9.0.0-py3-none-any.whl (22 kB)\n",
      "Installing collected packages: py-cpuinfo, tqdm, numpy, ultralytics-thop, opencv-python, seaborn, ultralytics\n",
      "  Attempting uninstall: numpy\n",
      "    Found existing installation: numpy 2.0.2\n",
      "    Uninstalling numpy-2.0.2:\n",
      "      Successfully uninstalled numpy-2.0.2\n",
      "Successfully installed numpy-1.26.4 opencv-python-4.10.0.84 py-cpuinfo-9.0.0 seaborn-0.13.2 tqdm-4.66.5 ultralytics-8.2.97 ultralytics-thop-2.0.6\n",
      "Note: you may need to restart the kernel to use updated packages.\n"
     ]
    },
    {
     "name": "stderr",
     "output_type": "stream",
     "text": [
      "  WARNING: Failed to remove contents in a temporary directory 'D:\\anaconda\\envs\\d2l\\Lib\\site-packages\\~umpy.libs'.\n",
      "  You can safely remove it manually.\n",
      "  WARNING: Failed to remove contents in a temporary directory 'D:\\anaconda\\envs\\d2l\\Lib\\site-packages\\~-mpy'.\n",
      "  You can safely remove it manually.\n",
      "ERROR: pip's dependency resolver does not currently take into account all the packages that are installed. This behaviour is the source of the following dependency conflicts.\n",
      "d2l 0.17.6 requires numpy==1.21.5, but you have numpy 1.26.4 which is incompatible.\n"
     ]
    }
   ],
   "source": [
    "pip install ultralytics"
   ]
  },
  {
   "cell_type": "code",
   "execution_count": 3,
   "metadata": {},
   "outputs": [
    {
     "name": "stdout",
     "output_type": "stream",
     "text": [
      "Name: ultralytics\n",
      "Version: 8.2.97\n",
      "Summary: Ultralytics YOLO for SOTA object detection, multi-object tracking, instance segmentation, pose estimation and image classification.\n",
      "Home-page: \n",
      "Author: Glenn Jocher, Ayush Chaurasia, Jing Qiu\n",
      "Author-email: \n",
      "License: AGPL-3.0\n",
      "Location: d:\\anaconda\\envs\\d2l\\lib\\site-packages\n",
      "Requires: matplotlib, numpy, opencv-python, pandas, pillow, psutil, py-cpuinfo, pyyaml, requests, scipy, seaborn, torch, torchvision, tqdm, ultralytics-thop\n",
      "Required-by: \n",
      "Note: you may need to restart the kernel to use updated packages.\n"
     ]
    }
   ],
   "source": [
    "pip show ultralytics"
   ]
  },
  {
   "cell_type": "markdown",
   "metadata": {},
   "source": [
    "## 1.1 图片数据训练"
   ]
  },
  {
   "cell_type": "code",
   "execution_count": null,
   "metadata": {},
   "outputs": [],
   "source": [
    "from ultralytics import YOLO\n",
    "import matplotlib.pyplot as plt\n",
    "import os\n",
    "\n",
    "# 设置权重文件夹路径\n",
    "weights_dir = os.path.join(os.path.expanduser('~'), 'Desktop', 'weights')\n",
    "\n",
    "# 初始化 YOLO 模型\n",
    "yolov8_models = {\n",
    "    \"yolov8n\": YOLO(os.path.join(weights_dir, 'yolov8n.pt')),\n",
    "    \"yolov8s\": YOLO(os.path.join(weights_dir, 'yolov8s.pt')),\n",
    "    \"yolov8x\": YOLO(os.path.join(weights_dir, 'yolov8x.pt'))\n",
    "}\n",
    "\n",
    "# Path to the dataset configuration file (YAML)\n",
    "DATASET_CONFIG = r'C:\\Users\\ASUS\\Desktop\\trafic_data\\data_1.yaml'\n",
    "\n",
    "# Directory to save the training graphs for all models\n",
    "main_folder = 'training-graphs'\n",
    "if not os.path.exists(main_folder):  # 自动帮我们创立好文件夹\n",
    "    os.makedirs(main_folder)  # 每个模型的文件里面总共两个图（一个accuracy，一个loss）\n",
    "\n",
    "# Train each of the four models\n",
    "for model_name, model in yolov8_models.items():\n",
    "    print(f\"Training {model_name}...\")\n",
    "\n",
    "    # Directory for saving this model's training graphs\n",
    "    model_folder = os.path.join(main_folder, model_name)\n",
    "    if not os.path.exists(model_folder):\n",
    "        os.makedirs(model_folder)\n",
    "    \n",
    "    # Train the model\n",
    "    results = model.train(\n",
    "        data=DATASET_CONFIG,   # path to the YAML config file\n",
    "        epochs=10,             # number of training epochs\n",
    "        batch=128,              # batch size\n",
    "        imgsz=640,             # image size for training (640x640)\n",
    "        name=model_name,       # name for this experiment run\n",
    "        workers=8,             # number of data loading workers （or processes 进程 per time)\n",
    "        plots=True,            # save loss and mAP plots\n",
    "        device='0'             # 0: GPU, 1: CPU\n",
    "    )\n",
    "\n",
    "    # Retrieve training metrics (loss, mAP, etc.)\n",
    "    metrics = results.metrics\n",
    "\n",
    "    # Define the range of epochs\n",
    "    epochs = range(1, 11)  # Adjust according to your number of epochs\n",
    "\n",
    "    # Loss plot\n",
    "    plt.figure(figsize=(10, 6))\n",
    "    plt.plot(epochs, metrics['train/loss'], label='Training Loss')\n",
    "    plt.plot(epochs, metrics['val/loss'], label='Validation Loss')\n",
    "    plt.title(f'{model_name} - Loss Over Epochs')\n",
    "    plt.xlabel('Epochs')\n",
    "    plt.ylabel('Loss')\n",
    "    plt.legend()\n",
    "    plt.grid(True)\n",
    "    loss_file_path = os.path.join(model_folder, f'{model_name}_loss.png')\n",
    "    plt.savefig(loss_file_path)\n",
    "    plt.close()\n",
    "\n",
    "    # Accuracy (mAP) plot\n",
    "    plt.figure(figsize=(10, 6))\n",
    "    plt.plot(epochs, metrics['train/map50'], label='Training mAP@0.5')\n",
    "    plt.plot(epochs, metrics['val/map50'], label='Validation mAP@0.5')\n",
    "    plt.title(f'{model_name} - Accuracy (mAP) Over Epochs')\n",
    "    plt.xlabel('Epochs')\n",
    "    plt.ylabel('mAP@0.5')\n",
    "    plt.legend()\n",
    "    plt.grid(True)\n",
    "    accuracy_file_path = os.path.join(model_folder, f'{model_name}_accuracy.png')\n",
    "    plt.savefig(accuracy_file_path)\n",
    "    plt.close()\n",
    "\n",
    "    print(f\"Training completed for {model_name} and plots saved in {model_folder}.\")\n",
    "\n",
    "print(\"All models have been trained and plots saved.\")"
   ]
  },
  {
   "cell_type": "markdown",
   "metadata": {},
   "source": [
    "## 1.2 视频类型训练数据"
   ]
  },
  {
   "cell_type": "markdown",
   "metadata": {},
   "source": []
  }
 ],
 "metadata": {
  "kernelspec": {
   "display_name": "Python 3 (ipykernel)",
   "language": "python",
   "name": "python3"
  },
  "language_info": {
   "codemirror_mode": {
    "name": "ipython",
    "version": 3
   },
   "file_extension": ".py",
   "mimetype": "text/x-python",
   "name": "python",
   "nbconvert_exporter": "python",
   "pygments_lexer": "ipython3",
   "version": "3.9.19"
  }
 },
 "nbformat": 4,
 "nbformat_minor": 4
}
